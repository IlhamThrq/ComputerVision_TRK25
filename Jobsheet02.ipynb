{
  "nbformat": 4,
  "nbformat_minor": 0,
  "metadata": {
    "colab": {
      "provenance": [],
      "authorship_tag": "ABX9TyPvIs58bu/7zoVZZ8+FxmaD",
      "include_colab_link": true
    },
    "kernelspec": {
      "name": "python3",
      "display_name": "Python 3"
    },
    "language_info": {
      "name": "python"
    }
  },
  "cells": [
    {
      "cell_type": "markdown",
      "metadata": {
        "id": "view-in-github",
        "colab_type": "text"
      },
      "source": [
        "<a href=\"https://colab.research.google.com/github/IlhamThrq/ComputerVision_TRK25/blob/main/Jobsheet02.ipynb\" target=\"_parent\"><img src=\"https://colab.research.google.com/assets/colab-badge.svg\" alt=\"Open In Colab\"/></a>"
      ]
    },
    {
      "cell_type": "markdown",
      "source": [],
      "metadata": {
        "id": "5iMbqG38Wz60"
      }
    },
    {
      "cell_type": "markdown",
      "source": [
        "#Jobsheet 02: Klasifikasi Gambar"
      ],
      "metadata": {
        "id": "0hDt5vFfW0pI"
      }
    },
    {
      "cell_type": "markdown",
      "source": [
        "##Set-Up Template Library Visi Komputer"
      ],
      "metadata": {
        "id": "ZVj-ZnpzXKaD"
      }
    },
    {
      "cell_type": "code",
      "source": [
        "# Core\n",
        "import numpy as np\n",
        "import pandas as pd\n",
        "import matplotlib.pyplot as plt\n",
        "import seaborn as sns\n",
        "\n",
        "# Machine Learning\n",
        "from sklearn import svm\n",
        "from sklearn.metrics import accuracy_score, classification_report, confusion_matrix\n",
        "\n",
        "# Deep Learning\n",
        "import tensorflow as tf\n",
        "from tensorflow.keras import layers, models, datasets\n",
        "from tensorflow.keras.applications import VGG16\n",
        "\n",
        "# Computer Vision\n",
        "import cv2\n",
        "from PIL import Image, ImageOps\n",
        "\n",
        "# Utilities\n",
        "from tqdm import tqdm\n",
        "\n",
        "# Untuk upload file di Colab\n",
        "from google.colab import files\n"
      ],
      "metadata": {
        "id": "mMAZiSyQXaCq"
      },
      "execution_count": 1,
      "outputs": []
    }
  ]
}